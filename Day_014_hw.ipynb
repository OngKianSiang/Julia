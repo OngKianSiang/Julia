{
 "cells": [
  {
   "cell_type": "markdown",
   "metadata": {},
   "source": [
    "# Julia 檔案處理與資料庫連線\n",
    "\n",
    "## Day 014 作業1：讀取 Nested Dict 內的資料\n",
    "\n",
    "Day 010 時我們介紹了字典 (Dict)，字典內的資料可以是巢狀 (nested) 的，包含較複雜的資料階層結構。在今天的下載檔 CityCountyData.json 是台灣各縣市鄉鎮區及路名的中英文資料，檔案為 JSON 格式，範例內容如下：\n",
    "\n",
    "```json\n",
    "    {\n",
    "        \"CityName\": \"臺北市\",\n",
    "        \"CityEngName\": \"Taipei City\",\n",
    "        \"AreaList\": [\n",
    "            {\n",
    "                \"ZipCode\": \"100\",\n",
    "                \"AreaName\": \"中正區\",\n",
    "                \"AreaEngName\": \"Zhongzheng Dist.\"\n",
    "            },\n",
    "            ...\n",
    "    }\n",
    "```\n",
    "\n",
    "作業內容為讀取 JSON 檔案，並列出台北市所有行政區的中英文名稱。範例答案將以 JSON.jl 套件作為示範。\n",
    "\n",
    "檔案資料來源：[台灣 縣市，鄉鎮，地址 中英文 JSON](https://github.com/donma/TaiwanAddressCityAreaRoadChineseEnglishJSON)"
   ]
  },
  {
   "cell_type": "code",
   "execution_count": 1,
   "metadata": {},
   "outputs": [],
   "source": [
    "using JSON"
   ]
  },
  {
   "cell_type": "markdown",
   "metadata": {},
   "source": [
    "列出所有台北市行政區的中英文名稱"
   ]
  },
  {
   "cell_type": "code",
   "execution_count": 2,
   "metadata": {},
   "outputs": [
    {
     "data": {
      "text/plain": [
       "24-element Array{Any,1}:\n",
       " Dict{String,Any}(\"CityEngName\"=>\"Taipei City\",\"CityName\"=>\"臺北市\",\"AreaList\"=>Any[Dict{String,Any}(\"ZipCode\"=>\"100\",\"AreaName\"=>\"中正區\",\"AreaEngName\"=>\"Zhongzheng Dist.\"), Dict{String,Any}(\"ZipCode\"=>\"103\",\"AreaName\"=>\"大同區\",\"AreaEngName\"=>\"Datong Dist.\"), Dict{String,Any}(\"ZipCode\"=>\"104\",\"AreaName\"=>\"中山區\",\"AreaEngName\"=>\"Zhongshan Dist.\"), Dict{String,Any}(\"ZipCode\"=>\"105\",\"AreaName\"=>\"松山區\",\"AreaEngName\"=>\"Songshan Dist.\"), Dict{String,Any}(\"ZipCode\"=>\"106\",\"AreaName\"=>\"大安區\",\"AreaEngName\"=>\"Da’an Dist.\"), Dict{String,Any}(\"ZipCode\"=>\"108\",\"AreaName\"=>\"萬華區\",\"AreaEngName\"=>\"Wanhua Dist.\"), Dict{String,Any}(\"ZipCode\"=>\"110\",\"AreaName\"=>\"信義區\",\"AreaEngName\"=>\"Xinyi Dist.\"), Dict{String,Any}(\"ZipCode\"=>\"111\",\"AreaName\"=>\"士林區\",\"AreaEngName\"=>\"Shilin Dist.\"), Dict{String,Any}(\"ZipCode\"=>\"112\",\"AreaName\"=>\"北投區\",\"AreaEngName\"=>\"Beitou Dist.\"), Dict{String,Any}(\"ZipCode\"=>\"114\",\"AreaName\"=>\"內湖區\",\"AreaEngName\"=>\"Neihu Dist.\"), Dict{String,Any}(\"ZipCode\"=>\"115\",\"AreaName\"=>\"南港區\",\"AreaEngName\"=>\"Nangang Dist.\"), Dict{String,Any}(\"ZipCode\"=>\"116\",\"AreaName\"=>\"文山區\",\"AreaEngName\"=>\"Wenshan Dist.\")])                                                                                                                                                                                                                                                                                                                                                                                                                                                                                                                                                                                                                                                                                                                                                                   \n",
       " Dict{String,Any}(\"CityEngName\"=>\"Keelung City\",\"CityName\"=>\"基隆市\",\"AreaList\"=>Any[Dict{String,Any}(\"ZipCode\"=>\"200\",\"AreaName\"=>\"仁愛區\",\"AreaEngName\"=>\"Ren’ai Dist.\"), Dict{String,Any}(\"ZipCode\"=>\"201\",\"AreaName\"=>\"信義區\",\"AreaEngName\"=>\"Xinyi Dist.\"), Dict{String,Any}(\"ZipCode\"=>\"202\",\"AreaName\"=>\"中正區\",\"AreaEngName\"=>\"Zhongzheng Dist.\"), Dict{String,Any}(\"ZipCode\"=>\"203\",\"AreaName\"=>\"中山區\",\"AreaEngName\"=>\"Zhongshan Dist.\"), Dict{String,Any}(\"ZipCode\"=>\"204\",\"AreaName\"=>\"安樂區\",\"AreaEngName\"=>\"Anle Dist.\"), Dict{String,Any}(\"ZipCode\"=>\"205\",\"AreaName\"=>\"暖暖區\",\"AreaEngName\"=>\"Nuannuan Dist.\"), Dict{String,Any}(\"ZipCode\"=>\"206\",\"AreaName\"=>\"七堵區\",\"AreaEngName\"=>\"Qidu Dist.\")])                                                                                                                                                                                                                                                                                                                                                                                                                                                                                                                                                                                                                                                                                                                                                                                                                                                                                                                                                                                                                                                                                                                                                                                                          \n",
       " Dict{String,Any}(\"CityEngName\"=>\"New Taipei City\",\"CityName\"=>\"新北市\",\"AreaList\"=>Any[Dict{String,Any}(\"ZipCode\"=>\"207\",\"AreaName\"=>\"萬里區\",\"AreaEngName\"=>\"Wanli Dist.\"), Dict{String,Any}(\"ZipCode\"=>\"208\",\"AreaName\"=>\"金山區\",\"AreaEngName\"=>\"Jinshan Dist.\"), Dict{String,Any}(\"ZipCode\"=>\"220\",\"AreaName\"=>\"板橋區\",\"AreaEngName\"=>\"Banqiao Dist.\"), Dict{String,Any}(\"ZipCode\"=>\"221\",\"AreaName\"=>\"汐止區\",\"AreaEngName\"=>\"Xizhi Dist.\"), Dict{String,Any}(\"ZipCode\"=>\"222\",\"AreaName\"=>\"深坑區\",\"AreaEngName\"=>\"Shenkeng Dist.\"), Dict{String,Any}(\"ZipCode\"=>\"223\",\"AreaName\"=>\"石碇區\",\"AreaEngName\"=>\"Shiding Dist.\"), Dict{String,Any}(\"ZipCode\"=>\"224\",\"AreaName\"=>\"瑞芳區\",\"AreaEngName\"=>\"Ruifang Dist.\"), Dict{String,Any}(\"ZipCode\"=>\"226\",\"AreaName\"=>\"平溪區\",\"AreaEngName\"=>\"Pingxi Dist.\"), Dict{String,Any}(\"ZipCode\"=>\"227\",\"AreaName\"=>\"雙溪區\",\"AreaEngName\"=>\"Shuangxi Dist.\"), Dict{String,Any}(\"ZipCode\"=>\"228\",\"AreaName\"=>\"貢寮區\",\"AreaEngName\"=>\"Gongliao Dist.\")  …  Dict{String,Any}(\"ZipCode\"=>\"241\",\"AreaName\"=>\"三重區\",\"AreaEngName\"=>\"Sanchong Dist.\"), Dict{String,Any}(\"ZipCode\"=>\"242\",\"AreaName\"=>\"新莊區\",\"AreaEngName\"=>\"Xinzhuang Dist.\"), Dict{String,Any}(\"ZipCode\"=>\"243\",\"AreaName\"=>\"泰山區\",\"AreaEngName\"=>\"Taishan Dist.\"), Dict{String,Any}(\"ZipCode\"=>\"244\",\"AreaName\"=>\"林口區\",\"AreaEngName\"=>\"Linkou Dist.\"), Dict{String,Any}(\"ZipCode\"=>\"247\",\"AreaName\"=>\"蘆洲區\",\"AreaEngName\"=>\"Luzhou Dist.\"), Dict{String,Any}(\"ZipCode\"=>\"248\",\"AreaName\"=>\"五股區\",\"AreaEngName\"=>\"Wugu Dist.\"), Dict{String,Any}(\"ZipCode\"=>\"249\",\"AreaName\"=>\"八里區\",\"AreaEngName\"=>\"Bali Dist.\"), Dict{String,Any}(\"ZipCode\"=>\"251\",\"AreaName\"=>\"淡水區\",\"AreaEngName\"=>\"Tamsui Dist.\"), Dict{String,Any}(\"ZipCode\"=>\"252\",\"AreaName\"=>\"三芝區\",\"AreaEngName\"=>\"Sanzhi Dist.\"), Dict{String,Any}(\"ZipCode\"=>\"253\",\"AreaName\"=>\"石門區\",\"AreaEngName\"=>\"Shimen Dist.\")])                                                          \n",
       " Dict{String,Any}(\"CityEngName\"=>\"Lienchiang County\",\"CityName\"=>\"連江縣\",\"AreaList\"=>Any[Dict{String,Any}(\"ZipCode\"=>\"209\",\"AreaName\"=>\"南竿鄉\",\"AreaEngName\"=>\"Nangan Township\"), Dict{String,Any}(\"ZipCode\"=>\"210\",\"AreaName\"=>\"北竿鄉\",\"AreaEngName\"=>\"Beigan Township\"), Dict{String,Any}(\"ZipCode\"=>\"211\",\"AreaName\"=>\"莒光鄉\",\"AreaEngName\"=>\"Juguang Township\"), Dict{String,Any}(\"ZipCode\"=>\"212\",\"AreaName\"=>\"東引鄉\",\"AreaEngName\"=>\"Dongyin Township\")])                                                                                                                                                                                                                                                                                                                                                                                                                                                                                                                                                                                                                                                                                                                                                                                                                                                                                                                                                                                                                                                                                                                                                                                                                                                                                                                                                                                                                                                       \n",
       " Dict{String,Any}(\"CityEngName\"=>\"Yilan County\",\"CityName\"=>\"宜蘭縣\",\"AreaList\"=>Any[Dict{String,Any}(\"ZipCode\"=>\"260\",\"AreaName\"=>\"宜蘭市\",\"AreaEngName\"=>\"Yilan City\"), Dict{String,Any}(\"ZipCode\"=>\"263\",\"AreaName\"=>\"壯圍鄉\",\"AreaEngName\"=>\"Zhuangwei Township\"), Dict{String,Any}(\"ZipCode\"=>\"261\",\"AreaName\"=>\"頭城鎮\",\"AreaEngName\"=>\"Toucheng Township\"), Dict{String,Any}(\"ZipCode\"=>\"262\",\"AreaName\"=>\"礁溪鄉\",\"AreaEngName\"=>\"Jiaoxi Township\"), Dict{String,Any}(\"ZipCode\"=>\"264\",\"AreaName\"=>\"員山鄉\",\"AreaEngName\"=>\"Yuanshan Township\"), Dict{String,Any}(\"ZipCode\"=>\"265\",\"AreaName\"=>\"羅東鎮\",\"AreaEngName\"=>\"Luodong Township\"), Dict{String,Any}(\"ZipCode\"=>\"266\",\"AreaName\"=>\"三星鄉\",\"AreaEngName\"=>\"Sanxing Township\"), Dict{String,Any}(\"ZipCode\"=>\"267\",\"AreaName\"=>\"大同鄉\",\"AreaEngName\"=>\"Datong Township\"), Dict{String,Any}(\"ZipCode\"=>\"268\",\"AreaName\"=>\"五結鄉\",\"AreaEngName\"=>\"Wujie Township\"), Dict{String,Any}(\"ZipCode\"=>\"269\",\"AreaName\"=>\"冬山鄉\",\"AreaEngName\"=>\"Dongshan Township\"), Dict{String,Any}(\"ZipCode\"=>\"270\",\"AreaName\"=>\"蘇澳鎮\",\"AreaEngName\"=>\"Su’ao Township\"), Dict{String,Any}(\"ZipCode\"=>\"272\",\"AreaName\"=>\"南澳鄉\",\"AreaEngName\"=>\"Nan’ao Township\"), Dict{String,Any}(\"ZipCode\"=>\"290\",\"AreaName\"=>\"釣魚臺\",\"AreaEngName\"=>\"Diaoyutai\")])                                                                                                                                                                                                                                                                                                                                                                                                                                                                                                                                                                                                                                                 \n",
       " Dict{String,Any}(\"CityEngName\"=>\"Diauyutai\",\"CityName\"=>\"釣魚臺\",\"AreaList\"=>Any[Dict{String,Any}(\"ZipCode\"=>\"290\",\"AreaName\"=>\"釣魚臺\",\"AreaEngName\"=>\"Diaoyutai\")])                                                                                                                                                                                                                                                                                                                                                                                                                                                                                                                                                                                                                                                                                                                                                                                                                                                                                                                                                                                                                                                                                                                                                                                                                                                                                                                                                                                                                                                                                                                                                                                                                                                                                                                                            \n",
       " Dict{String,Any}(\"CityEngName\"=>\"Hsinchu City\",\"CityName\"=>\"新竹市\",\"AreaList\"=>Any[Dict{String,Any}(\"ZipCode\"=>\"300\",\"AreaName\"=>\"東區\",\"AreaEngName\"=>\"East Dist.\"), Dict{String,Any}(\"ZipCode\"=>\"300\",\"AreaName\"=>\"北區\",\"AreaEngName\"=>\"North Dist.\"), Dict{String,Any}(\"ZipCode\"=>\"300\",\"AreaName\"=>\"香山區\",\"AreaEngName\"=>\"Xiangshan Dist.\")])                                                                                                                                                                                                                                                                                                                                                                                                                                                                                                                                                                                                                                                                                                                                                                                                                                                                                                                                                                                                                                                                                                                                                                                                                                                                                                                                                                                                                                                                                                                                                                \n",
       " Dict{String,Any}(\"CityEngName\"=>\"Hsinchu County\",\"CityName\"=>\"新竹縣\",\"AreaList\"=>Any[Dict{String,Any}(\"ZipCode\"=>\"308\",\"AreaName\"=>\"寶山鄉\",\"AreaEngName\"=>\"Baoshan Township\"), Dict{String,Any}(\"ZipCode\"=>\"302\",\"AreaName\"=>\"竹北市\",\"AreaEngName\"=>\"Zhubei City\"), Dict{String,Any}(\"ZipCode\"=>\"303\",\"AreaName\"=>\"湖口鄉\",\"AreaEngName\"=>\"Hukou Township\"), Dict{String,Any}(\"ZipCode\"=>\"304\",\"AreaName\"=>\"新豐鄉\",\"AreaEngName\"=>\"Xinfeng Township\"), Dict{String,Any}(\"ZipCode\"=>\"305\",\"AreaName\"=>\"新埔鎮\",\"AreaEngName\"=>\"Xinpu Township\"), Dict{String,Any}(\"ZipCode\"=>\"306\",\"AreaName\"=>\"關西鎮\",\"AreaEngName\"=>\"Guanxi Township\"), Dict{String,Any}(\"ZipCode\"=>\"307\",\"AreaName\"=>\"芎林鄉\",\"AreaEngName\"=>\"Qionglin Township\"), Dict{String,Any}(\"ZipCode\"=>\"310\",\"AreaName\"=>\"竹東鎮\",\"AreaEngName\"=>\"Zhudong Township\"), Dict{String,Any}(\"ZipCode\"=>\"311\",\"AreaName\"=>\"五峰鄉\",\"AreaEngName\"=>\"Wufeng Township\"), Dict{String,Any}(\"ZipCode\"=>\"312\",\"AreaName\"=>\"橫山鄉\",\"AreaEngName\"=>\"Hengshan Township\"), Dict{String,Any}(\"ZipCode\"=>\"313\",\"AreaName\"=>\"尖石鄉\",\"AreaEngName\"=>\"Jianshi Township\"), Dict{String,Any}(\"ZipCode\"=>\"314\",\"AreaName\"=>\"北埔鄉\",\"AreaEngName\"=>\"Beipu Township\"), Dict{String,Any}(\"ZipCode\"=>\"315\",\"AreaName\"=>\"峨眉鄉\",\"AreaEngName\"=>\"Emei Township\")])                                                                                                                                                                                                                                                                                                                                                                                                                                                                                                                                                                                                                                              \n",
       " Dict{String,Any}(\"CityEngName\"=>\"Taoyuan City\",\"CityName\"=>\"桃園市\",\"AreaList\"=>Any[Dict{String,Any}(\"ZipCode\"=>\"320\",\"AreaName\"=>\"中壢區\",\"AreaEngName\"=>\"Zhongli Dist.\"), Dict{String,Any}(\"ZipCode\"=>\"324\",\"AreaName\"=>\"平鎮區\",\"AreaEngName\"=>\"Pingzhen Dist.\"), Dict{String,Any}(\"ZipCode\"=>\"325\",\"AreaName\"=>\"龍潭區\",\"AreaEngName\"=>\"Longtan Dist.\"), Dict{String,Any}(\"ZipCode\"=>\"326\",\"AreaName\"=>\"楊梅區\",\"AreaEngName\"=>\"Yangmei Dist.\"), Dict{String,Any}(\"ZipCode\"=>\"327\",\"AreaName\"=>\"新屋區\",\"AreaEngName\"=>\"Xinwu Dist.\"), Dict{String,Any}(\"ZipCode\"=>\"328\",\"AreaName\"=>\"觀音區\",\"AreaEngName\"=>\"Guanyin Dist.\"), Dict{String,Any}(\"ZipCode\"=>\"330\",\"AreaName\"=>\"桃園區\",\"AreaEngName\"=>\"Taoyuan Dist.\"), Dict{String,Any}(\"ZipCode\"=>\"333\",\"AreaName\"=>\"龜山區\",\"AreaEngName\"=>\"Guishan Dist.\"), Dict{String,Any}(\"ZipCode\"=>\"334\",\"AreaName\"=>\"八德區\",\"AreaEngName\"=>\"Bade Dist.\"), Dict{String,Any}(\"ZipCode\"=>\"335\",\"AreaName\"=>\"大溪區\",\"AreaEngName\"=>\"Daxi Dist.\"), Dict{String,Any}(\"ZipCode\"=>\"336\",\"AreaName\"=>\"復興區\",\"AreaEngName\"=>\"Fuxing Dist.\"), Dict{String,Any}(\"ZipCode\"=>\"337\",\"AreaName\"=>\"大園區\",\"AreaEngName\"=>\"Dayuan Dist.\"), Dict{String,Any}(\"ZipCode\"=>\"338\",\"AreaName\"=>\"蘆竹區\",\"AreaEngName\"=>\"Luzhu Dist.\")])                                                                                                                                                                                                                                                                                                                                                                                                                                                                                                                                                                                                                                                                                    \n",
       " Dict{String,Any}(\"CityEngName\"=>\"Miaoli County\",\"CityName\"=>\"苗栗縣\",\"AreaList\"=>Any[Dict{String,Any}(\"ZipCode\"=>\"350\",\"AreaName\"=>\"竹南鎮\",\"AreaEngName\"=>\"Zhunan Township\"), Dict{String,Any}(\"ZipCode\"=>\"351\",\"AreaName\"=>\"頭份市\",\"AreaEngName\"=>\"Toufen City\"), Dict{String,Any}(\"ZipCode\"=>\"352\",\"AreaName\"=>\"三灣鄉\",\"AreaEngName\"=>\"Sanwan Township\"), Dict{String,Any}(\"ZipCode\"=>\"353\",\"AreaName\"=>\"南庄鄉\",\"AreaEngName\"=>\"Nanzhuang Township\"), Dict{String,Any}(\"ZipCode\"=>\"354\",\"AreaName\"=>\"獅潭鄉\",\"AreaEngName\"=>\"Shitan Township\"), Dict{String,Any}(\"ZipCode\"=>\"356\",\"AreaName\"=>\"後龍鎮\",\"AreaEngName\"=>\"Houlong Township\"), Dict{String,Any}(\"ZipCode\"=>\"357\",\"AreaName\"=>\"通霄鎮\",\"AreaEngName\"=>\"Tongxiao Township\"), Dict{String,Any}(\"ZipCode\"=>\"358\",\"AreaName\"=>\"苑裡鎮\",\"AreaEngName\"=>\"Yuanli Township\"), Dict{String,Any}(\"ZipCode\"=>\"360\",\"AreaName\"=>\"苗栗市\",\"AreaEngName\"=>\"Miaoli City\"), Dict{String,Any}(\"ZipCode\"=>\"361\",\"AreaName\"=>\"造橋鄉\",\"AreaEngName\"=>\"Zaoqiao Township\"), Dict{String,Any}(\"ZipCode\"=>\"362\",\"AreaName\"=>\"頭屋鄉\",\"AreaEngName\"=>\"Touwu Township\"), Dict{String,Any}(\"ZipCode\"=>\"363\",\"AreaName\"=>\"公館鄉\",\"AreaEngName\"=>\"Gongguan Township\"), Dict{String,Any}(\"ZipCode\"=>\"364\",\"AreaName\"=>\"大湖鄉\",\"AreaEngName\"=>\"Dahu Township\"), Dict{String,Any}(\"ZipCode\"=>\"365\",\"AreaName\"=>\"泰安鄉\",\"AreaEngName\"=>\"Tai’an Township\"), Dict{String,Any}(\"ZipCode\"=>\"366\",\"AreaName\"=>\"銅鑼鄉\",\"AreaEngName\"=>\"Tongluo Township\"), Dict{String,Any}(\"ZipCode\"=>\"367\",\"AreaName\"=>\"三義鄉\",\"AreaEngName\"=>\"Sanyi Township\"), Dict{String,Any}(\"ZipCode\"=>\"368\",\"AreaName\"=>\"西湖鄉\",\"AreaEngName\"=>\"Xihu Township\"), Dict{String,Any}(\"ZipCode\"=>\"369\",\"AreaName\"=>\"卓蘭鎮\",\"AreaEngName\"=>\"Zhuolan Township\")])                                                                                                                                                                                              \n",
       " Dict{String,Any}(\"CityEngName\"=>\"Taichung City\",\"CityName\"=>\"臺中市\",\"AreaList\"=>Any[Dict{String,Any}(\"ZipCode\"=>\"400\",\"AreaName\"=>\"中區\",\"AreaEngName\"=>\"Central Dist.\"), Dict{String,Any}(\"ZipCode\"=>\"401\",\"AreaName\"=>\"東區\",\"AreaEngName\"=>\"East Dist.\"), Dict{String,Any}(\"ZipCode\"=>\"402\",\"AreaName\"=>\"南區\",\"AreaEngName\"=>\"South Dist.\"), Dict{String,Any}(\"ZipCode\"=>\"403\",\"AreaName\"=>\"西區\",\"AreaEngName\"=>\"West Dist.\"), Dict{String,Any}(\"ZipCode\"=>\"404\",\"AreaName\"=>\"北區\",\"AreaEngName\"=>\"North Dist.\"), Dict{String,Any}(\"ZipCode\"=>\"406\",\"AreaName\"=>\"北屯區\",\"AreaEngName\"=>\"Beitun Dist.\"), Dict{String,Any}(\"ZipCode\"=>\"407\",\"AreaName\"=>\"西屯區\",\"AreaEngName\"=>\"Xitun Dist.\"), Dict{String,Any}(\"ZipCode\"=>\"408\",\"AreaName\"=>\"南屯區\",\"AreaEngName\"=>\"Nantun Dist.\"), Dict{String,Any}(\"ZipCode\"=>\"411\",\"AreaName\"=>\"太平區\",\"AreaEngName\"=>\"Taiping Dist.\"), Dict{String,Any}(\"ZipCode\"=>\"412\",\"AreaName\"=>\"大里區\",\"AreaEngName\"=>\"Dali Dist.\")  …  Dict{String,Any}(\"ZipCode\"=>\"428\",\"AreaName\"=>\"大雅區\",\"AreaEngName\"=>\"Daya Dist.\"), Dict{String,Any}(\"ZipCode\"=>\"429\",\"AreaName\"=>\"神岡區\",\"AreaEngName\"=>\"Shengang Dist.\"), Dict{String,Any}(\"ZipCode\"=>\"432\",\"AreaName\"=>\"大肚區\",\"AreaEngName\"=>\"Dadu Dist.\"), Dict{String,Any}(\"ZipCode\"=>\"433\",\"AreaName\"=>\"沙鹿區\",\"AreaEngName\"=>\"Shalu Dist.\"), Dict{String,Any}(\"ZipCode\"=>\"434\",\"AreaName\"=>\"龍井區\",\"AreaEngName\"=>\"Longjing Dist.\"), Dict{String,Any}(\"ZipCode\"=>\"435\",\"AreaName\"=>\"梧棲區\",\"AreaEngName\"=>\"Wuqi Dist.\"), Dict{String,Any}(\"ZipCode\"=>\"436\",\"AreaName\"=>\"清水區\",\"AreaEngName\"=>\"Qingshui Dist.\"), Dict{String,Any}(\"ZipCode\"=>\"437\",\"AreaName\"=>\"大甲區\",\"AreaEngName\"=>\"Dajia Dist.\"), Dict{String,Any}(\"ZipCode\"=>\"438\",\"AreaName\"=>\"外埔區\",\"AreaEngName\"=>\"Waipu Dist.\"), Dict{String,Any}(\"ZipCode\"=>\"439\",\"AreaName\"=>\"大安區\",\"AreaEngName\"=>\"Da’an Dist.\")])                                                                                      \n",
       " Dict{String,Any}(\"CityEngName\"=>\"Changhua County\",\"CityName\"=>\"彰化縣\",\"AreaList\"=>Any[Dict{String,Any}(\"ZipCode\"=>\"500\",\"AreaName\"=>\"彰化市\",\"AreaEngName\"=>\"Changhua City\"), Dict{String,Any}(\"ZipCode\"=>\"502\",\"AreaName\"=>\"芬園鄉\",\"AreaEngName\"=>\"Fenyuan Township\"), Dict{String,Any}(\"ZipCode\"=>\"503\",\"AreaName\"=>\"花壇鄉\",\"AreaEngName\"=>\"Huatan Township\"), Dict{String,Any}(\"ZipCode\"=>\"504\",\"AreaName\"=>\"秀水鄉\",\"AreaEngName\"=>\"Xiushui Township\"), Dict{String,Any}(\"ZipCode\"=>\"505\",\"AreaName\"=>\"鹿港鎮\",\"AreaEngName\"=>\"Lukang Township\"), Dict{String,Any}(\"ZipCode\"=>\"506\",\"AreaName\"=>\"福興鄉\",\"AreaEngName\"=>\"Fuxing Township\"), Dict{String,Any}(\"ZipCode\"=>\"507\",\"AreaName\"=>\"線西鄉\",\"AreaEngName\"=>\"Xianxi Township\"), Dict{String,Any}(\"ZipCode\"=>\"508\",\"AreaName\"=>\"和美鎮\",\"AreaEngName\"=>\"Hemei Township\"), Dict{String,Any}(\"ZipCode\"=>\"509\",\"AreaName\"=>\"伸港鄉\",\"AreaEngName\"=>\"Shengang Township\"), Dict{String,Any}(\"ZipCode\"=>\"510\",\"AreaName\"=>\"員林市\",\"AreaEngName\"=>\"Yuanlin City\")  …  Dict{String,Any}(\"ZipCode\"=>\"520\",\"AreaName\"=>\"田中鎮\",\"AreaEngName\"=>\"Tianzhong Township\"), Dict{String,Any}(\"ZipCode\"=>\"521\",\"AreaName\"=>\"北斗鎮\",\"AreaEngName\"=>\"Beidou Township\"), Dict{String,Any}(\"ZipCode\"=>\"522\",\"AreaName\"=>\"田尾鄉\",\"AreaEngName\"=>\"Tianwei Township\"), Dict{String,Any}(\"ZipCode\"=>\"523\",\"AreaName\"=>\"埤頭鄉\",\"AreaEngName\"=>\"Pitou Township\"), Dict{String,Any}(\"ZipCode\"=>\"524\",\"AreaName\"=>\"溪州鄉\",\"AreaEngName\"=>\"Xizhou Township\"), Dict{String,Any}(\"ZipCode\"=>\"525\",\"AreaName\"=>\"竹塘鄉\",\"AreaEngName\"=>\"Zhutang Township\"), Dict{String,Any}(\"ZipCode\"=>\"526\",\"AreaName\"=>\"二林鎮\",\"AreaEngName\"=>\"Erlin Township\"), Dict{String,Any}(\"ZipCode\"=>\"527\",\"AreaName\"=>\"大城鄉\",\"AreaEngName\"=>\"Dacheng Township\"), Dict{String,Any}(\"ZipCode\"=>\"528\",\"AreaName\"=>\"芳苑鄉\",\"AreaEngName\"=>\"Fangyuan Township\"), Dict{String,Any}(\"ZipCode\"=>\"530\",\"AreaName\"=>\"二水鄉\",\"AreaEngName\"=>\"Ershui Township\")])    \n",
       " Dict{String,Any}(\"CityEngName\"=>\"Nantou County\",\"CityName\"=>\"南投縣\",\"AreaList\"=>Any[Dict{String,Any}(\"ZipCode\"=>\"540\",\"AreaName\"=>\"南投市\",\"AreaEngName\"=>\"Nantou City\"), Dict{String,Any}(\"ZipCode\"=>\"541\",\"AreaName\"=>\"中寮鄉\",\"AreaEngName\"=>\"Zhongliao Township\"), Dict{String,Any}(\"ZipCode\"=>\"542\",\"AreaName\"=>\"草屯鎮\",\"AreaEngName\"=>\"Caotun Township\"), Dict{String,Any}(\"ZipCode\"=>\"544\",\"AreaName\"=>\"國姓鄉\",\"AreaEngName\"=>\"Guoxing Township\"), Dict{String,Any}(\"ZipCode\"=>\"545\",\"AreaName\"=>\"埔里鎮\",\"AreaEngName\"=>\"Puli Township\"), Dict{String,Any}(\"ZipCode\"=>\"546\",\"AreaName\"=>\"仁愛鄉\",\"AreaEngName\"=>\"Ren’ai Township\"), Dict{String,Any}(\"ZipCode\"=>\"551\",\"AreaName\"=>\"名間鄉\",\"AreaEngName\"=>\"Mingjian Township\"), Dict{String,Any}(\"ZipCode\"=>\"552\",\"AreaName\"=>\"集集鎮\",\"AreaEngName\"=>\"Jiji Township\"), Dict{String,Any}(\"ZipCode\"=>\"553\",\"AreaName\"=>\"水里鄉\",\"AreaEngName\"=>\"Shuili Township\"), Dict{String,Any}(\"ZipCode\"=>\"555\",\"AreaName\"=>\"魚池鄉\",\"AreaEngName\"=>\"Yuchi Township\"), Dict{String,Any}(\"ZipCode\"=>\"556\",\"AreaName\"=>\"信義鄉\",\"AreaEngName\"=>\"Xinyi Township\"), Dict{String,Any}(\"ZipCode\"=>\"557\",\"AreaName\"=>\"竹山鎮\",\"AreaEngName\"=>\"Zhushan Township\"), Dict{String,Any}(\"ZipCode\"=>\"558\",\"AreaName\"=>\"鹿谷鄉\",\"AreaEngName\"=>\"Lugu Township\")])                                                                                                                                                                                                                                                                                                                                                                                                                                                                                                                                                                                                                                                   \n",
       " Dict{String,Any}(\"CityEngName\"=>\"Chiayi City\",\"CityName\"=>\"嘉義市\",\"AreaList\"=>Any[Dict{String,Any}(\"ZipCode\"=>\"600\",\"AreaName\"=>\"西區\",\"AreaEngName\"=>\"West Dist.\"), Dict{String,Any}(\"ZipCode\"=>\"600\",\"AreaName\"=>\"東區\",\"AreaEngName\"=>\"East Dist.\")])                                                                                                                                                                                                                                                                                                                                                                                                                                                                                                                                                                                                                                                                                                                                                                                                                                                                                                                                                                                                                                                                                                                                                                                                                                                                                                                                                                                                                                                                                                                                                                                                                                                         \n",
       " Dict{String,Any}(\"CityEngName\"=>\"Chiayi County\",\"CityName\"=>\"嘉義縣\",\"AreaList\"=>Any[Dict{String,Any}(\"ZipCode\"=>\"602\",\"AreaName\"=>\"番路鄉\",\"AreaEngName\"=>\"Fanlu Township\"), Dict{String,Any}(\"ZipCode\"=>\"603\",\"AreaName\"=>\"梅山鄉\",\"AreaEngName\"=>\"Meishan Township\"), Dict{String,Any}(\"ZipCode\"=>\"604\",\"AreaName\"=>\"竹崎鄉\",\"AreaEngName\"=>\"Zhuqi Township\"), Dict{String,Any}(\"ZipCode\"=>\"605\",\"AreaName\"=>\"阿里山鄉\",\"AreaEngName\"=>\"Alishan Township\"), Dict{String,Any}(\"ZipCode\"=>\"606\",\"AreaName\"=>\"中埔鄉\",\"AreaEngName\"=>\"Zhongpu Township\"), Dict{String,Any}(\"ZipCode\"=>\"607\",\"AreaName\"=>\"大埔鄉\",\"AreaEngName\"=>\"Dapu Township\"), Dict{String,Any}(\"ZipCode\"=>\"608\",\"AreaName\"=>\"水上鄉\",\"AreaEngName\"=>\"Shuishang Township\"), Dict{String,Any}(\"ZipCode\"=>\"611\",\"AreaName\"=>\"鹿草鄉\",\"AreaEngName\"=>\"Lucao Township\"), Dict{String,Any}(\"ZipCode\"=>\"612\",\"AreaName\"=>\"太保市\",\"AreaEngName\"=>\"Taibao City\"), Dict{String,Any}(\"ZipCode\"=>\"613\",\"AreaName\"=>\"朴子市\",\"AreaEngName\"=>\"Puzi City\"), Dict{String,Any}(\"ZipCode\"=>\"614\",\"AreaName\"=>\"東石鄉\",\"AreaEngName\"=>\"Dongshi Township\"), Dict{String,Any}(\"ZipCode\"=>\"615\",\"AreaName\"=>\"六腳鄉\",\"AreaEngName\"=>\"Liujiao Township\"), Dict{String,Any}(\"ZipCode\"=>\"616\",\"AreaName\"=>\"新港鄉\",\"AreaEngName\"=>\"Xingang Township\"), Dict{String,Any}(\"ZipCode\"=>\"621\",\"AreaName\"=>\"民雄鄉\",\"AreaEngName\"=>\"Minxiong Township\"), Dict{String,Any}(\"ZipCode\"=>\"622\",\"AreaName\"=>\"大林鎮\",\"AreaEngName\"=>\"Dalin Township\"), Dict{String,Any}(\"ZipCode\"=>\"623\",\"AreaName\"=>\"溪口鄉\",\"AreaEngName\"=>\"Xikou Township\"), Dict{String,Any}(\"ZipCode\"=>\"624\",\"AreaName\"=>\"義竹鄉\",\"AreaEngName\"=>\"Yizhu Township\"), Dict{String,Any}(\"ZipCode\"=>\"625\",\"AreaName\"=>\"布袋鎮\",\"AreaEngName\"=>\"Budai Township\")])                                                                                                                                                                                                  \n",
       " Dict{String,Any}(\"CityEngName\"=>\"Yunlin County\",\"CityName\"=>\"雲林縣\",\"AreaList\"=>Any[Dict{String,Any}(\"ZipCode\"=>\"630\",\"AreaName\"=>\"斗南鎮\",\"AreaEngName\"=>\"Dounan Township\"), Dict{String,Any}(\"ZipCode\"=>\"631\",\"AreaName\"=>\"大埤鄉\",\"AreaEngName\"=>\"Dapi Township\"), Dict{String,Any}(\"ZipCode\"=>\"632\",\"AreaName\"=>\"虎尾鎮\",\"AreaEngName\"=>\"Huwei Township\"), Dict{String,Any}(\"ZipCode\"=>\"633\",\"AreaName\"=>\"土庫鎮\",\"AreaEngName\"=>\"Tuku Township\"), Dict{String,Any}(\"ZipCode\"=>\"634\",\"AreaName\"=>\"褒忠鄉\",\"AreaEngName\"=>\"Baozhong Township\"), Dict{String,Any}(\"ZipCode\"=>\"635\",\"AreaName\"=>\"東勢鄉\",\"AreaEngName\"=>\"Dongshi Township\"), Dict{String,Any}(\"ZipCode\"=>\"636\",\"AreaName\"=>\"臺西鄉\",\"AreaEngName\"=>\"Taixi Township\"), Dict{String,Any}(\"ZipCode\"=>\"637\",\"AreaName\"=>\"崙背鄉\",\"AreaEngName\"=>\"Lunbei Township\"), Dict{String,Any}(\"ZipCode\"=>\"638\",\"AreaName\"=>\"麥寮鄉\",\"AreaEngName\"=>\"Mailiao Township\"), Dict{String,Any}(\"ZipCode\"=>\"640\",\"AreaName\"=>\"斗六市\",\"AreaEngName\"=>\"Douliu City\"), Dict{String,Any}(\"ZipCode\"=>\"643\",\"AreaName\"=>\"林內鄉\",\"AreaEngName\"=>\"Linnei Township\"), Dict{String,Any}(\"ZipCode\"=>\"646\",\"AreaName\"=>\"古坑鄉\",\"AreaEngName\"=>\"Gukeng Township\"), Dict{String,Any}(\"ZipCode\"=>\"647\",\"AreaName\"=>\"莿桐鄉\",\"AreaEngName\"=>\"Citong Township\"), Dict{String,Any}(\"ZipCode\"=>\"648\",\"AreaName\"=>\"西螺鎮\",\"AreaEngName\"=>\"Xiluo Township\"), Dict{String,Any}(\"ZipCode\"=>\"649\",\"AreaName\"=>\"二崙鄉\",\"AreaEngName\"=>\"Erlun Township\"), Dict{String,Any}(\"ZipCode\"=>\"651\",\"AreaName\"=>\"北港鎮\",\"AreaEngName\"=>\"Beigang Township\"), Dict{String,Any}(\"ZipCode\"=>\"652\",\"AreaName\"=>\"水林鄉\",\"AreaEngName\"=>\"Shuilin Township\"), Dict{String,Any}(\"ZipCode\"=>\"653\",\"AreaName\"=>\"口湖鄉\",\"AreaEngName\"=>\"Kouhu Township\"), Dict{String,Any}(\"ZipCode\"=>\"654\",\"AreaName\"=>\"四湖鄉\",\"AreaEngName\"=>\"Sihu Township\"), Dict{String,Any}(\"ZipCode\"=>\"655\",\"AreaName\"=>\"元長鄉\",\"AreaEngName\"=>\"Yuanchang Township\")])                   \n",
       " Dict{String,Any}(\"CityEngName\"=>\"Tainan City\",\"CityName\"=>\"臺南市\",\"AreaList\"=>Any[Dict{String,Any}(\"ZipCode\"=>\"700\",\"AreaName\"=>\"中西區\",\"AreaEngName\"=>\"West Central Dist.\"), Dict{String,Any}(\"ZipCode\"=>\"701\",\"AreaName\"=>\"東區\",\"AreaEngName\"=>\"East Dist.\"), Dict{String,Any}(\"ZipCode\"=>\"702\",\"AreaName\"=>\"南區\",\"AreaEngName\"=>\"South Dist.\"), Dict{String,Any}(\"ZipCode\"=>\"704\",\"AreaName\"=>\"北區\",\"AreaEngName\"=>\"North Dist.\"), Dict{String,Any}(\"ZipCode\"=>\"708\",\"AreaName\"=>\"安平區\",\"AreaEngName\"=>\"Anping Dist.\"), Dict{String,Any}(\"ZipCode\"=>\"709\",\"AreaName\"=>\"安南區\",\"AreaEngName\"=>\"Annan Dist.\"), Dict{String,Any}(\"ZipCode\"=>\"710\",\"AreaName\"=>\"永康區\",\"AreaEngName\"=>\"Yongkang Dist.\"), Dict{String,Any}(\"ZipCode\"=>\"711\",\"AreaName\"=>\"歸仁區\",\"AreaEngName\"=>\"Guiren Dist.\"), Dict{String,Any}(\"ZipCode\"=>\"712\",\"AreaName\"=>\"新化區\",\"AreaEngName\"=>\"Xinhua Dist.\"), Dict{String,Any}(\"ZipCode\"=>\"713\",\"AreaName\"=>\"左鎮區\",\"AreaEngName\"=>\"Zuozhen Dist.\")  …  Dict{String,Any}(\"ZipCode\"=>\"733\",\"AreaName\"=>\"東山區\",\"AreaEngName\"=>\"Dongshan Dist.\"), Dict{String,Any}(\"ZipCode\"=>\"734\",\"AreaName\"=>\"六甲區\",\"AreaEngName\"=>\"Liujia Dist.\"), Dict{String,Any}(\"ZipCode\"=>\"735\",\"AreaName\"=>\"下營區\",\"AreaEngName\"=>\"Xiaying Dist.\"), Dict{String,Any}(\"ZipCode\"=>\"736\",\"AreaName\"=>\"柳營區\",\"AreaEngName\"=>\"Liuying Dist.\"), Dict{String,Any}(\"ZipCode\"=>\"737\",\"AreaName\"=>\"鹽水區\",\"AreaEngName\"=>\"Yanshui Dist.\"), Dict{String,Any}(\"ZipCode\"=>\"741\",\"AreaName\"=>\"善化區\",\"AreaEngName\"=>\"Shanhua Dist.\"), Dict{String,Any}(\"ZipCode\"=>\"744\",\"AreaName\"=>\"新市區\",\"AreaEngName\"=>\"Xinshi Dist.\"), Dict{String,Any}(\"ZipCode\"=>\"742\",\"AreaName\"=>\"大內區\",\"AreaEngName\"=>\"Danei Dist.\"), Dict{String,Any}(\"ZipCode\"=>\"743\",\"AreaName\"=>\"山上區\",\"AreaEngName\"=>\"Shanshang Dist.\"), Dict{String,Any}(\"ZipCode\"=>\"745\",\"AreaName\"=>\"安定區\",\"AreaEngName\"=>\"Anding Dist.\")])                                                               \n",
       " Dict{String,Any}(\"CityEngName\"=>\"Kaohsiung City\",\"CityName\"=>\"高雄市\",\"AreaList\"=>Any[Dict{String,Any}(\"ZipCode\"=>\"800\",\"AreaName\"=>\"新興區\",\"AreaEngName\"=>\"Xinxing Dist.\"), Dict{String,Any}(\"ZipCode\"=>\"801\",\"AreaName\"=>\"前金區\",\"AreaEngName\"=>\"Qianjin Dist.\"), Dict{String,Any}(\"ZipCode\"=>\"802\",\"AreaName\"=>\"苓雅區\",\"AreaEngName\"=>\"Lingya Dist.\"), Dict{String,Any}(\"ZipCode\"=>\"803\",\"AreaName\"=>\"鹽埕區\",\"AreaEngName\"=>\"Yancheng Dist.\"), Dict{String,Any}(\"ZipCode\"=>\"804\",\"AreaName\"=>\"鼓山區\",\"AreaEngName\"=>\"Gushan Dist.\"), Dict{String,Any}(\"ZipCode\"=>\"805\",\"AreaName\"=>\"旗津區\",\"AreaEngName\"=>\"Qijin Dist.\"), Dict{String,Any}(\"ZipCode\"=>\"806\",\"AreaName\"=>\"前鎮區\",\"AreaEngName\"=>\"Qianzhen Dist.\"), Dict{String,Any}(\"ZipCode\"=>\"807\",\"AreaName\"=>\"三民區\",\"AreaEngName\"=>\"Sanmin Dist.\"), Dict{String,Any}(\"ZipCode\"=>\"811\",\"AreaName\"=>\"楠梓區\",\"AreaEngName\"=>\"Nanzi Dist.\"), Dict{String,Any}(\"ZipCode\"=>\"812\",\"AreaName\"=>\"小港區\",\"AreaEngName\"=>\"Xiaogang Dist.\")  …  Dict{String,Any}(\"ZipCode\"=>\"842\",\"AreaName\"=>\"旗山區\",\"AreaEngName\"=>\"Qishan Dist.\"), Dict{String,Any}(\"ZipCode\"=>\"843\",\"AreaName\"=>\"美濃區\",\"AreaEngName\"=>\"Meinong Dist.\"), Dict{String,Any}(\"ZipCode\"=>\"844\",\"AreaName\"=>\"六龜區\",\"AreaEngName\"=>\"Liugui Dist.\"), Dict{String,Any}(\"ZipCode\"=>\"845\",\"AreaName\"=>\"內門區\",\"AreaEngName\"=>\"Neimen Dist.\"), Dict{String,Any}(\"ZipCode\"=>\"846\",\"AreaName\"=>\"杉林區\",\"AreaEngName\"=>\"Shanlin Dist.\"), Dict{String,Any}(\"ZipCode\"=>\"847\",\"AreaName\"=>\"甲仙區\",\"AreaEngName\"=>\"Jiaxian Dist.\"), Dict{String,Any}(\"ZipCode\"=>\"848\",\"AreaName\"=>\"桃源區\",\"AreaEngName\"=>\"Taoyuan Dist.\"), Dict{String,Any}(\"ZipCode\"=>\"849\",\"AreaName\"=>\"那瑪夏區\",\"AreaEngName\"=>\"Namaxia Dist.\"), Dict{String,Any}(\"ZipCode\"=>\"851\",\"AreaName\"=>\"茂林區\",\"AreaEngName\"=>\"Maolin Dist.\"), Dict{String,Any}(\"ZipCode\"=>\"852\",\"AreaName\"=>\"茄萣區\",\"AreaEngName\"=>\"Qieding Dist.\")])                                                        \n",
       " Dict{String,Any}(\"CityEngName\"=>\"Nanhai\",\"CityName\"=>\"南海島\",\"AreaList\"=>Any[Dict{String,Any}(\"ZipCode\"=>\"817\",\"AreaName\"=>\"東沙群島\",\"AreaEngName\"=>\"Dongsha Islands\"), Dict{String,Any}(\"ZipCode\"=>\"819\",\"AreaName\"=>\"南沙群島\",\"AreaEngName\"=>\"Nansha Islands\")])                                                                                                                                                                                                                                                                                                                                                                                                                                                                                                                                                                                                                                                                                                                                                                                                                                                                                                                                                                                                                                                                                                                                                                                                                                                                                                                                                                                                                                                                                                                                                                                                                                                 \n",
       " Dict{String,Any}(\"CityEngName\"=>\"Penghu County\",\"CityName\"=>\"澎湖縣\",\"AreaList\"=>Any[Dict{String,Any}(\"ZipCode\"=>\"880\",\"AreaName\"=>\"馬公市\",\"AreaEngName\"=>\"Magong City\"), Dict{String,Any}(\"ZipCode\"=>\"881\",\"AreaName\"=>\"西嶼鄉\",\"AreaEngName\"=>\"Xiyu Township\"), Dict{String,Any}(\"ZipCode\"=>\"882\",\"AreaName\"=>\"望安鄉\",\"AreaEngName\"=>\"Wang’an Township\"), Dict{String,Any}(\"ZipCode\"=>\"883\",\"AreaName\"=>\"七美鄉\",\"AreaEngName\"=>\"Qimei Township\"), Dict{String,Any}(\"ZipCode\"=>\"884\",\"AreaName\"=>\"白沙鄉\",\"AreaEngName\"=>\"Baisha Township\"), Dict{String,Any}(\"ZipCode\"=>\"885\",\"AreaName\"=>\"湖西鄉\",\"AreaEngName\"=>\"Huxi Township\")])                                                                                                                                                                                                                                                                                                                                                                                                                                                                                                                                                                                                                                                                                                                                                                                                                                                                                                                                                                                                                                                                                                                                                                                                                                                                                       \n",
       " Dict{String,Any}(\"CityEngName\"=>\"Kinmen County\",\"CityName\"=>\"金門縣\",\"AreaList\"=>Any[Dict{String,Any}(\"ZipCode\"=>\"890\",\"AreaName\"=>\"金沙鎮\",\"AreaEngName\"=>\"Jinsha Township\"), Dict{String,Any}(\"ZipCode\"=>\"891\",\"AreaName\"=>\"金湖鎮\",\"AreaEngName\"=>\"Jinhu Township\"), Dict{String,Any}(\"ZipCode\"=>\"892\",\"AreaName\"=>\"金寧鄉\",\"AreaEngName\"=>\"Jinning Township\"), Dict{String,Any}(\"ZipCode\"=>\"893\",\"AreaName\"=>\"金城鎮\",\"AreaEngName\"=>\"Jincheng Township\"), Dict{String,Any}(\"ZipCode\"=>\"894\",\"AreaName\"=>\"烈嶼鄉\",\"AreaEngName\"=>\"Lieyu Township\"), Dict{String,Any}(\"ZipCode\"=>\"896\",\"AreaName\"=>\"烏坵鄉\",\"AreaEngName\"=>\"Wuqiu Township\")])                                                                                                                                                                                                                                                                                                                                                                                                                                                                                                                                                                                                                                                                                                                                                                                                                                                                                                                                                                                                                                                                                                                                                                                                                                                                               \n",
       " Dict{String,Any}(\"CityEngName\"=>\"Pingtung County\",\"CityName\"=>\"屏東縣\",\"AreaList\"=>Any[Dict{String,Any}(\"ZipCode\"=>\"900\",\"AreaName\"=>\"屏東市\",\"AreaEngName\"=>\"Pingtung City\"), Dict{String,Any}(\"ZipCode\"=>\"901\",\"AreaName\"=>\"三地門鄉\",\"AreaEngName\"=>\"Sandimen Township\"), Dict{String,Any}(\"ZipCode\"=>\"902\",\"AreaName\"=>\"霧臺鄉\",\"AreaEngName\"=>\"Wutai Township\"), Dict{String,Any}(\"ZipCode\"=>\"903\",\"AreaName\"=>\"瑪家鄉\",\"AreaEngName\"=>\"Majia Township\"), Dict{String,Any}(\"ZipCode\"=>\"904\",\"AreaName\"=>\"九如鄉\",\"AreaEngName\"=>\"Jiuru Township\"), Dict{String,Any}(\"ZipCode\"=>\"905\",\"AreaName\"=>\"里港鄉\",\"AreaEngName\"=>\"Ligang Township\"), Dict{String,Any}(\"ZipCode\"=>\"906\",\"AreaName\"=>\"高樹鄉\",\"AreaEngName\"=>\"Gaoshu Township\"), Dict{String,Any}(\"ZipCode\"=>\"907\",\"AreaName\"=>\"鹽埔鄉\",\"AreaEngName\"=>\"Yanpu Township\"), Dict{String,Any}(\"ZipCode\"=>\"908\",\"AreaName\"=>\"長治鄉\",\"AreaEngName\"=>\"Changzhi Township\"), Dict{String,Any}(\"ZipCode\"=>\"909\",\"AreaName\"=>\"麟洛鄉\",\"AreaEngName\"=>\"Linluo Township\")  …  Dict{String,Any}(\"ZipCode\"=>\"931\",\"AreaName\"=>\"佳冬鄉\",\"AreaEngName\"=>\"Jiadong Township\"), Dict{String,Any}(\"ZipCode\"=>\"932\",\"AreaName\"=>\"新園鄉\",\"AreaEngName\"=>\"Xinyuan Township\"), Dict{String,Any}(\"ZipCode\"=>\"940\",\"AreaName\"=>\"枋寮鄉\",\"AreaEngName\"=>\"Fangliao Township\"), Dict{String,Any}(\"ZipCode\"=>\"941\",\"AreaName\"=>\"枋山鄉\",\"AreaEngName\"=>\"Fangshan Township\"), Dict{String,Any}(\"ZipCode\"=>\"942\",\"AreaName\"=>\"春日鄉\",\"AreaEngName\"=>\"Chunri Township\"), Dict{String,Any}(\"ZipCode\"=>\"943\",\"AreaName\"=>\"獅子鄉\",\"AreaEngName\"=>\"Shizi Township\"), Dict{String,Any}(\"ZipCode\"=>\"944\",\"AreaName\"=>\"車城鄉\",\"AreaEngName\"=>\"Checheng Township\"), Dict{String,Any}(\"ZipCode\"=>\"945\",\"AreaName\"=>\"牡丹鄉\",\"AreaEngName\"=>\"Mudan Township\"), Dict{String,Any}(\"ZipCode\"=>\"946\",\"AreaName\"=>\"恆春鎮\",\"AreaEngName\"=>\"Hengchun Township\"), Dict{String,Any}(\"ZipCode\"=>\"947\",\"AreaName\"=>\"滿州鄉\",\"AreaEngName\"=>\"Manzhou Township\")])\n",
       " Dict{String,Any}(\"CityEngName\"=>\"Taitung County\",\"CityName\"=>\"臺東縣\",\"AreaList\"=>Any[Dict{String,Any}(\"ZipCode\"=>\"950\",\"AreaName\"=>\"臺東市\",\"AreaEngName\"=>\"Taitung City\"), Dict{String,Any}(\"ZipCode\"=>\"951\",\"AreaName\"=>\"綠島鄉\",\"AreaEngName\"=>\"Ludao Township\"), Dict{String,Any}(\"ZipCode\"=>\"952\",\"AreaName\"=>\"蘭嶼鄉\",\"AreaEngName\"=>\"Lanyu Township\"), Dict{String,Any}(\"ZipCode\"=>\"953\",\"AreaName\"=>\"延平鄉\",\"AreaEngName\"=>\"Yanping Township\"), Dict{String,Any}(\"ZipCode\"=>\"954\",\"AreaName\"=>\"卑南鄉\",\"AreaEngName\"=>\"Beinan Township\"), Dict{String,Any}(\"ZipCode\"=>\"955\",\"AreaName\"=>\"鹿野鄉\",\"AreaEngName\"=>\"Luye Township\"), Dict{String,Any}(\"ZipCode\"=>\"956\",\"AreaName\"=>\"關山鎮\",\"AreaEngName\"=>\"Guanshan Township\"), Dict{String,Any}(\"ZipCode\"=>\"957\",\"AreaName\"=>\"海端鄉\",\"AreaEngName\"=>\"Haiduan Township\"), Dict{String,Any}(\"ZipCode\"=>\"958\",\"AreaName\"=>\"池上鄉\",\"AreaEngName\"=>\"Chishang Township\"), Dict{String,Any}(\"ZipCode\"=>\"959\",\"AreaName\"=>\"東河鄉\",\"AreaEngName\"=>\"Donghe Township\"), Dict{String,Any}(\"ZipCode\"=>\"961\",\"AreaName\"=>\"成功鎮\",\"AreaEngName\"=>\"Chenggong Township\"), Dict{String,Any}(\"ZipCode\"=>\"962\",\"AreaName\"=>\"長濱鄉\",\"AreaEngName\"=>\"Changbin Township\"), Dict{String,Any}(\"ZipCode\"=>\"963\",\"AreaName\"=>\"太麻里鄉\",\"AreaEngName\"=>\"Taimali Township\"), Dict{String,Any}(\"ZipCode\"=>\"964\",\"AreaName\"=>\"金峰鄉\",\"AreaEngName\"=>\"Jinfeng Township\"), Dict{String,Any}(\"ZipCode\"=>\"965\",\"AreaName\"=>\"大武鄉\",\"AreaEngName\"=>\"Dawu Township\"), Dict{String,Any}(\"ZipCode\"=>\"966\",\"AreaName\"=>\"達仁鄉\",\"AreaEngName\"=>\"Daren Township\")])                                                                                                                                                                                                                                                                                                                                                                    \n",
       " Dict{String,Any}(\"CityEngName\"=>\"Hualien County\",\"CityName\"=>\"花蓮縣\",\"AreaList\"=>Any[Dict{String,Any}(\"ZipCode\"=>\"970\",\"AreaName\"=>\"花蓮市\",\"AreaEngName\"=>\"Hualien City\"), Dict{String,Any}(\"ZipCode\"=>\"971\",\"AreaName\"=>\"新城鄉\",\"AreaEngName\"=>\"Xincheng Township\"), Dict{String,Any}(\"ZipCode\"=>\"972\",\"AreaName\"=>\"秀林鄉\",\"AreaEngName\"=>\"Xiulin Township\"), Dict{String,Any}(\"ZipCode\"=>\"973\",\"AreaName\"=>\"吉安鄉\",\"AreaEngName\"=>\"Ji’an Township\"), Dict{String,Any}(\"ZipCode\"=>\"974\",\"AreaName\"=>\"壽豐鄉\",\"AreaEngName\"=>\"Shoufeng Township\"), Dict{String,Any}(\"ZipCode\"=>\"975\",\"AreaName\"=>\"鳳林鎮\",\"AreaEngName\"=>\"Fenglin Township\"), Dict{String,Any}(\"ZipCode\"=>\"976\",\"AreaName\"=>\"光復鄉\",\"AreaEngName\"=>\"Guangfu Township\"), Dict{String,Any}(\"ZipCode\"=>\"977\",\"AreaName\"=>\"豐濱鄉\",\"AreaEngName\"=>\"Fengbin Township\"), Dict{String,Any}(\"ZipCode\"=>\"978\",\"AreaName\"=>\"瑞穗鄉\",\"AreaEngName\"=>\"Ruisui Township\"), Dict{String,Any}(\"ZipCode\"=>\"979\",\"AreaName\"=>\"萬榮鄉\",\"AreaEngName\"=>\"Wanrong Township\"), Dict{String,Any}(\"ZipCode\"=>\"981\",\"AreaName\"=>\"玉里鎮\",\"AreaEngName\"=>\"Yuli Township\"), Dict{String,Any}(\"ZipCode\"=>\"982\",\"AreaName\"=>\"卓溪鄉\",\"AreaEngName\"=>\"Zhuoxi Township\"), Dict{String,Any}(\"ZipCode\"=>\"983\",\"AreaName\"=>\"富里鄉\",\"AreaEngName\"=>\"Fuli Township\")])                                                                                                                                                                                                                                                                                                                                                                                                                                                                                                                                                                                                                                             "
      ]
     },
     "execution_count": 2,
     "metadata": {},
     "output_type": "execute_result"
    }
   ],
   "source": [
    "a = JSON.parsefile(\"CityCountyData.json\")"
   ]
  },
  {
   "cell_type": "code",
   "execution_count": 3,
   "metadata": {},
   "outputs": [
    {
     "data": {
      "text/plain": [
       "Dict{String,Any} with 3 entries:\n",
       "  \"CityEngName\" => \"Taipei City\"\n",
       "  \"CityName\"    => \"臺北市\"\n",
       "  \"AreaList\"    => Any[Dict{String,Any}(\"ZipCode\"=>\"100\",\"AreaName\"=>\"中正區\",\"…"
      ]
     },
     "execution_count": 3,
     "metadata": {},
     "output_type": "execute_result"
    }
   ],
   "source": [
    "a[1]"
   ]
  },
  {
   "cell_type": "code",
   "execution_count": 4,
   "metadata": {},
   "outputs": [
    {
     "name": "stdout",
     "output_type": "stream",
     "text": [
      "中正區 Zhongzheng Dist.\n",
      "大同區 Datong Dist.\n",
      "中山區 Zhongshan Dist.\n",
      "松山區 Songshan Dist.\n",
      "大安區 Da’an Dist.\n",
      "萬華區 Wanhua Dist.\n",
      "信義區 Xinyi Dist.\n",
      "士林區 Shilin Dist.\n",
      "北投區 Beitou Dist.\n",
      "內湖區 Neihu Dist.\n",
      "南港區 Nangang Dist.\n",
      "文山區 Wenshan Dist.\n"
     ]
    }
   ],
   "source": [
    "for i in 1:length(a[1][\"AreaList\"])\n",
    "    println(a[1][\"AreaList\"][i][\"AreaName\"], \" \" , a[1][\"AreaList\"][i][\"AreaEngName\"])\n",
    "end"
   ]
  },
  {
   "cell_type": "markdown",
   "metadata": {},
   "source": [
    "## 作業2：將字典資料存為 JSON 檔\n",
    "\n",
    "作業2請產生字典 (Dict) 資料，並將字典資料存為 JSON 格式。請自行產生字典，也可使用下列的字串資料計算字數 (Day 010 作業程式)。\n",
    "\n",
    "【提示】可以參考今天範例程式中將陣列資料存為 JSON 格式的部分。"
   ]
  },
  {
   "cell_type": "code",
   "execution_count": 5,
   "metadata": {},
   "outputs": [
    {
     "data": {
      "text/plain": [
       "\"永和有永和路，中和也有永和路，\\n中和有中和路，永和也有中和路；\\n中和的中和路有接永和的中和路，\\n永和的永和路沒接中和的永和路；\\n永和的中和路有接永和的永和路，\\n中和的永和路沒接中和的中和路。\\n\\n永和有中正路，中和也有中正路；\\n永和的中正路用景平路接中和的中正路。\\n永和有中山路，中和也有中山路；\\n永和的中山路直接接上了中和的中山路。\\n永和的中正路接上了永和的中山路；\\n中和的中正路卻不接中和的中山路。\\n\\n中正橋下來不是中正路，但永和有中正路；\\n秀朗橋下來不是秀朗路，但永和有秀朗路。\\n永福橋下來不是永福路，永和沒有永福路；\\n福和橋下來不是福和路，但福和路接的卻是永福橋。\\n\\n中和中和路永和永和路\\n永和中和路中和永和路\\n中和中山路永和中正路\\n永和中山路中和中正路\""
      ]
     },
     "execution_count": 5,
     "metadata": {},
     "output_type": "execute_result"
    }
   ],
   "source": [
    "str = \"永和有永和路，中和也有永和路，\n",
    "中和有中和路，永和也有中和路；\n",
    "中和的中和路有接永和的中和路，\n",
    "永和的永和路沒接中和的永和路；\n",
    "永和的中和路有接永和的永和路，\n",
    "中和的永和路沒接中和的中和路。\n",
    "\n",
    "永和有中正路，中和也有中正路；\n",
    "永和的中正路用景平路接中和的中正路。\n",
    "永和有中山路，中和也有中山路；\n",
    "永和的中山路直接接上了中和的中山路。\n",
    "永和的中正路接上了永和的中山路；\n",
    "中和的中正路卻不接中和的中山路。\n",
    "\n",
    "中正橋下來不是中正路，但永和有中正路；\n",
    "秀朗橋下來不是秀朗路，但永和有秀朗路。\n",
    "永福橋下來不是永福路，永和沒有永福路；\n",
    "福和橋下來不是福和路，但福和路接的卻是永福橋。\n",
    "\n",
    "中和中和路永和永和路\n",
    "永和中和路中和永和路\n",
    "中和中山路永和中正路\n",
    "永和中山路中和中正路\""
   ]
  },
  {
   "cell_type": "code",
   "execution_count": 6,
   "metadata": {},
   "outputs": [],
   "source": [
    "d = Dict{String, Int64}()\n",
    "\n",
    "for c ∈ str\n",
    "    d[string(c)] = get(d, string(c), 0) + 1\n",
    "end"
   ]
  },
  {
   "cell_type": "code",
   "execution_count": 7,
   "metadata": {},
   "outputs": [
    {
     "data": {
      "text/plain": [
       "Dict{String,Int64} with 31 entries:\n",
       "  \"有… => 13\n",
       "  \"和… => 54\n",
       "  \"也… => 4\n",
       "  \"不… => 5\n",
       "  \"，… => 11\n",
       "  \"下… => 4\n",
       "  \"是… => 5\n",
       "  \"山… => 8\n",
       "  \"朗… => 3\n",
       "  \"福… => 7\n",
       "  \"路… => 41\n",
       "  \"的… => 17\n",
       "  \"。… => 6\n",
       "  \"平… => 1\n",
       "  \"上… => 2\n",
       "  \"接… => 10\n",
       "  \"永… => 31\n",
       "  \"但… => 3\n",
       "  \"用… => 1\n",
       "  \"正… => 11\n",
       "  \"沒… => 3\n",
       "  \"景… => 1\n",
       "  \"秀… => 3\n",
       "  \"；… => 7\n",
       "  \"橋… => 5\n",
       "  ⋮   => ⋮"
      ]
     },
     "execution_count": 7,
     "metadata": {},
     "output_type": "execute_result"
    }
   ],
   "source": [
    "d"
   ]
  },
  {
   "cell_type": "code",
   "execution_count": 8,
   "metadata": {},
   "outputs": [
    {
     "data": {
      "text/plain": [
       "\"{\\\"有\\\":13,\\\"和\\\":54,\\\"也\\\":4,\\\"不\\\":5,\\\"，\\\":11,\\\"下\\\":4,\\\"是\\\":5,\\\"山\\\":8,\\\"朗\\\":3,\\\"福\\\":7,\\\"路\\\":41,\\\"的\\\":17,\\\"。\\\":6,\\\"平\\\":1,\\\"上\\\":2,\\\"接\\\":10,\\\"永\\\":31,\\\"但\\\":3,\\\"用\\\":1,\\\"正\\\":11,\\\"沒\\\":3,\\\"景\\\":1,\\\"秀\\\":3,\\\"；\\\":7,\\\"橋\\\":5,\\\"來\\\":4,\\\"了\\\":2,\\\"直\\\":1,\\\"中\\\":43,\\\"\\\\n\\\":22,\\\"卻\\\":2}\""
      ]
     },
     "execution_count": 8,
     "metadata": {},
     "output_type": "execute_result"
    }
   ],
   "source": [
    "str = JSON.json(d)"
   ]
  },
  {
   "cell_type": "code",
   "execution_count": 9,
   "metadata": {},
   "outputs": [],
   "source": [
    "f = open(\"Day_014_hw.json\", \"w\")\n",
    "println(f, str)\n",
    "close(f)"
   ]
  },
  {
   "cell_type": "code",
   "execution_count": null,
   "metadata": {},
   "outputs": [],
   "source": []
  }
 ],
 "metadata": {
  "kernelspec": {
   "display_name": "Julia 1.0.4",
   "language": "julia",
   "name": "julia-1.0"
  },
  "language_info": {
   "file_extension": ".jl",
   "mimetype": "application/julia",
   "name": "julia",
   "version": "1.0.4"
  }
 },
 "nbformat": 4,
 "nbformat_minor": 4
}
